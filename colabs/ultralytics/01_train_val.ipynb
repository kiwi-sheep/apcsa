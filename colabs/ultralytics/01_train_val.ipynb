{
  "cells": [
    {
      "cell_type": "markdown",
      "metadata": {
        "id": "view-in-github",
        "colab_type": "text"
      },
      "source": [
        "<a href=\"https://colab.research.google.com/github/kiwi-sheep/apcsa/blob/main/colabs/ultralytics/01_train_val.ipynb\" target=\"_parent\"><img src=\"https://colab.research.google.com/assets/colab-badge.svg\" alt=\"Open In Colab\"/></a>"
      ]
    },
    {
      "cell_type": "markdown",
      "metadata": {
        "id": "0DGdKSOBn0Xu"
      },
      "source": [
        "<a href=\"https://colab.research.google.com/github/wandb/examples/blob/master/colabs/ultralytics/01_train_val.ipynb\" target=\"_parent\"><img src=\"https://colab.research.google.com/assets/colab-badge.svg\" alt=\"Open In Colab\"/></a>\n",
        "<!--- @wandbcode{ultralytics-train} -->"
      ]
    },
    {
      "cell_type": "markdown",
      "metadata": {
        "id": "mkpFIOWEn0Xw"
      },
      "source": [
        "# 🔥🔥 Explore Predictions from Ultralytics models using Weights & Biases 🪄🐝\n",
        "\n",
        "<!--- @wandbcode{ultralytics-train} -->\n",
        "\n",
        "This notebook demonstrates a typical workflow of using an [Ultralytics](https://docs.ultralytics.com/modes/predict/) model for training, fine-tuning, and validation and performing experiment tracking, model-checkpointing, and visualization of the model's performance using [Weights & Biases](https://wandb.ai/site).\n"
      ]
    },
    {
      "cell_type": "markdown",
      "metadata": {
        "id": "YuKTu5Qqn0Xw"
      },
      "source": [
        "# Install Dependencies\n",
        "\n",
        "- Install Ultralytics using `pip install ultralytics`. In order to learn about more ways to install Ultralytics, you can check out the [official docs](https://docs.ultralytics.com/quickstart/#install-ultralytics).\n",
        "\n",
        "- Then, you need to install the [`feat/ultralytics`](https://github.com/wandb/wandb/tree/feat/ultralytics) branch from W&B, which currently houses the out-of-the-box integration for Ultralytics."
      ]
    },
    {
      "cell_type": "code",
      "execution_count": null,
      "metadata": {
        "id": "rLziRCaHn0Xx"
      },
      "outputs": [],
      "source": [
        "# Install WandB and Ultralytics\n",
        "!pip install -q -U wandb ultralytics"
      ]
    },
    {
      "cell_type": "markdown",
      "metadata": {
        "id": "6JjZ_6lvn0Xx"
      },
      "source": [
        "**Note:** The Ultralytcs integration will be soon available as a fully supported feature on Weights & Biases once [this pull request](https://github.com/wandb/wandb/pull/5867) is merged."
      ]
    },
    {
      "cell_type": "markdown",
      "metadata": {
        "id": "i1qqYA9zn0Xx"
      },
      "source": [
        "# Using Ultralytics with Weights & Biases\n",
        "\n",
        "In order to use the W&B integration with Ultralytics, we need to import the `wandb.yolov8.add_wandb_callback` function."
      ]
    },
    {
      "cell_type": "code",
      "execution_count": null,
      "metadata": {
        "id": "ptWpeayHn0Xy"
      },
      "outputs": [],
      "source": [
        "import wandb\n",
        "from wandb.integration.ultralytics import add_wandb_callback\n",
        "\n",
        "from ultralytics import YOLO"
      ]
    },
    {
      "cell_type": "markdown",
      "metadata": {
        "id": "6YuYKZ0Kn0Xy"
      },
      "source": [
        "Next, we initialize the `YOLO` model of our choice, and invoke the `add_wandb_callback` function on it before performing inference with the model. This would ensure that when we perform training, fine-tuning, validation, or inference, it would automatically log the experiment logs and the images overlayed with both ground-truth and the respective prediction results using the [interactive overlays for computer vision tasks](https://docs.wandb.ai/guides/track/log/media#image-overlays-in-tables) on W&B along with additional insights in a [`wandb.Table`](https://docs.wandb.ai/guides/data-vis)."
      ]
    },
    {
      "cell_type": "code",
      "execution_count": null,
      "metadata": {
        "id": "L7vnwrsjn0Xy"
      },
      "outputs": [],
      "source": [
        "model_name = \"yolov8n\" #@param {type:\"string\"}\n",
        "dataset_name = \"coco128.yaml\" #@param {type:\"string\"}\n",
        "\n",
        "# Initialize YOLO Model\n",
        "model = YOLO(f\"{model_name}.pt\")\n",
        "\n",
        "# Add Weights & Biases callback for Ultralytics\n",
        "add_wandb_callback(model, enable_model_checkpointing=True)\n",
        "\n",
        "# Train/fine-tune your model\n",
        "# At the end of each epoch, predictions on validation batches are logged\n",
        "# to a W&B table with insightful and interactive overlays for\n",
        "# computer vision tasks\n",
        "model.train(project=\"ultralytics\", data=dataset_name, epochs=5, imgsz=640)\n",
        "model.val()\n",
        "\n",
        "# Finish the W&B run\n",
        "wandb.finish()"
      ]
    },
    {
      "cell_type": "markdown",
      "metadata": {
        "id": "OmaPxSIXn0Xy"
      },
      "source": [
        "# Sample Experiment Tracking"
      ]
    },
    {
      "cell_type": "markdown",
      "metadata": {
        "id": "e8Gn3AoMn0Xz"
      },
      "source": [
        "![](https://github.com/wandb/examples/blob/master/colabs/ultralytics/assets/experiment.gif?raw=1)"
      ]
    },
    {
      "cell_type": "markdown",
      "metadata": {
        "id": "hmk3fRK2n0Xz"
      },
      "source": [
        "# Epoch-wise results visualized"
      ]
    },
    {
      "cell_type": "markdown",
      "metadata": {
        "id": "C2cHoVlJn0Xz"
      },
      "source": [
        "![](https://github.com/wandb/examples/blob/master/colabs/ultralytics/assets/table.gif?raw=1)"
      ]
    },
    {
      "cell_type": "markdown",
      "metadata": {
        "id": "GqAeyLI-n0Xz"
      },
      "source": [
        "Next, you can check out the following notebook to learn how to perform inference and visualize predictions during training using Weights & Biases in the following notebook:\n",
        "\n",
        "[![Open In Colab](https://colab.research.google.com/assets/colab-badge.svg)](http://wandb.me/ultralytics-inference)\n",
        "\n",
        "In order to learn more about using Weights & Biases with Ultralytics, you can also read the report: [**Supercharging Ultralytics with Weights & Biases**](https://wandb.ai/geekyrakshit/ultralytics/reports/Supercharging-Ultralytics-with-Weights-Biases--Vmlldzo0OTMyMDI4)"
      ]
    }
  ],
  "metadata": {
    "accelerator": "GPU",
    "colab": {
      "provenance": [],
      "toc_visible": true,
      "include_colab_link": true
    },
    "kernelspec": {
      "display_name": "Python 3",
      "name": "python3"
    }
  },
  "nbformat": 4,
  "nbformat_minor": 0
}